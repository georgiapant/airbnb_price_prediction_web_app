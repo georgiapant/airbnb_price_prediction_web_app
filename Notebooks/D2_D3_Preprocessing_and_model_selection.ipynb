{
  "cells": [
    {
      "cell_type": "code",
      "execution_count": 1,
      "metadata": {
        "colab": {
          "base_uri": "https://localhost:8080/"
        },
        "id": "nmCmmvzMjfaa",
        "outputId": "341e8c2a-cc70-45c9-ccd5-79fabba57ad5"
      },
      "outputs": [
        {
          "output_type": "stream",
          "name": "stdout",
          "text": [
            "Mounted at /content/drive\n"
          ]
        }
      ],
      "source": [
        "from google.colab import drive\n",
        "drive.mount('/content/drive')"
      ]
    },
    {
      "cell_type": "code",
      "execution_count": 2,
      "metadata": {
        "id": "WDQHvDHEk1XO"
      },
      "outputs": [],
      "source": [
        "import pandas as pd\n",
        "import seaborn as sns\n",
        "from geopy.distance import vincenty\n",
        "import numpy as np\n",
        "\n",
        "########\n",
        "# To use this notebook you have to change the data path with the one you have your own 'listings.csv'\n",
        "data_path = '/content/drive/MyDrive/Data_Masterclass/project/data/' \n",
        "########\n",
        "\n",
        "pd.options.mode.chained_assignment = None"
      ]
    },
    {
      "cell_type": "markdown",
      "metadata": {
        "id": "l12N5exqY3Eb"
      },
      "source": [
        "## Preprocess data"
      ]
    },
    {
      "cell_type": "code",
      "execution_count": 3,
      "metadata": {
        "id": "x8j0y0meOy_0"
      },
      "outputs": [],
      "source": [
        "def remove_outliers(df,cols, q1, q3):\n",
        "    '''\n",
        "    Function that removes the outliers of a set\n",
        "    \n",
        "    Inputs:\n",
        "    - df: dataframe of the data\n",
        "    - cols: The coloumns for wich the outliers need to be removed\n",
        "    - q1: below whitc quantile to drop\n",
        "    - q3: above which quantile to keep\n",
        "    \n",
        "    Output:\n",
        "    The dataframe without the outliers\n",
        "    '''\n",
        "    \n",
        "    Q1 = df[cols].quantile(q1)\n",
        "    Q3 = df[cols].quantile(q3)\n",
        "    IQR = Q3 - Q1\n",
        "\n",
        "    df = df[~((df[cols] < (Q1 - 1.5 * IQR)) |(df[cols] > (Q3 + 1.5 * IQR))).any(axis=1)]\n",
        "    return df"
      ]
    },
    {
      "cell_type": "code",
      "execution_count": 4,
      "metadata": {
        "id": "WKaHIzzQm68-"
      },
      "outputs": [],
      "source": [
        "def get_neigh_groupings(df):\n",
        "    '''\n",
        "    A function that creates the neighbourhood groupings based on the neighbourhood prices\n",
        "    \n",
        "    Input:\n",
        "    df: The dataframe with the data. Needs to have a column named 'neighbourhood_clensed' and one named 'price'\n",
        "    \n",
        "    Output:\n",
        "    A dictionary with keys all the neighbourhoods and value the group they belong\n",
        "    '''\n",
        "    groups_neigh = df.groupby('neighbourhood_cleansed').agg(np.mean)['price']\n",
        "    groups_neigh = groups_neigh.sort_values()\n",
        "    # groups_neigh\n",
        "\n",
        "    groups_neigh.values\n",
        "    groups_neigh_1 = groups_neigh[:6]\n",
        "    groups_neigh_2 = groups_neigh[6:12]\n",
        "    groups_neigh_3 = groups_neigh[12:18]\n",
        "    groups_neigh_4 = groups_neigh[18:24]\n",
        "    groups_neigh_5 = groups_neigh[24:30]\n",
        "    groups_neigh_6 = groups_neigh[30:37]\n",
        "    groups_neigh_7 = groups_neigh[37:44]\n",
        "\n",
        "    d1 = dict.fromkeys(groups_neigh_1.index, '1')\n",
        "    d2 = dict.fromkeys(groups_neigh_2.index, '2')\n",
        "    d3 = dict.fromkeys(groups_neigh_3.index, '3')\n",
        "    d4 = dict.fromkeys(groups_neigh_4.index, '4')\n",
        "    d5 = dict.fromkeys(groups_neigh_5.index, '5')\n",
        "    d6 = dict.fromkeys(groups_neigh_6.index, '6')\n",
        "    d7 = dict.fromkeys(groups_neigh_7.index, '7')\n",
        "\n",
        "    neigh_group = {**d1, **d2, **d3, **d4, **d5, **d6, **d7}\n",
        "    return neigh_group\n"
      ]
    },
    {
      "cell_type": "code",
      "execution_count": 5,
      "metadata": {
        "id": "RassvIZgAXcd"
      },
      "outputs": [],
      "source": [
        "from numpy import inf\n",
        "\n",
        "def missing_values_n_encoding(df, neigh_group):\n",
        "    '''\n",
        "    Function that fills missing values, encodes features and creates new features\n",
        "\n",
        "    Inputs:\n",
        "    - the dataframe and the neighbourhood grouping\n",
        "    \n",
        "    Outputs:\n",
        "    The new dataframe without any missing valuees, encoded features and new features\n",
        "    '''\n",
        "\n",
        "    \n",
        "    # Host feature handling\n",
        "    df['host_is_superhost'] = df['host_is_superhost'].map({'t':1, 'f':0})\n",
        "    df[['host_about', 'license']] = df[['host_about', 'license']].applymap(lambda x: 0 if pd.isnull(x) else 1)\n",
        "    df['host_verifications'] = df['host_verifications'].apply(lambda row: len(row))\n",
        "    df = df[~df['host_is_superhost'].isnull()]\n",
        "    df['host_response_rate'] = df['host_response_rate'].str[:-1].astype('float64')\n",
        "    df['host_response_rate'] = pd.cut(df['host_response_rate'], \n",
        "                                bins=[0, 50, 90, 99, 100], \n",
        "                                labels=['0-49%', '50-89%', '90-99%', '100%'], \n",
        "                                include_lowest=True)\n",
        "\n",
        "    df['host_response_rate'] = df['host_response_rate'].astype('str')\n",
        "    df['host_response_rate'] = df['host_response_rate'].replace('nan', 'unknown')\n",
        "    df['host_response_time']= df['host_response_time'].fillna(\"unknown\")\n",
        "\n",
        "\n",
        "    # Listing features handling\n",
        "    df['instant_bookable'] = df['instant_bookable'].map({'t':1, 'f':0})\n",
        "    df['has_availability'] = df['has_availability'].map({'t':1, 'f':0})\n",
        "    df['shared_bath'] = df['bathrooms_text'].apply(lambda s: 1 if 'shared' in str(s).split(' ') else 0) \n",
        "    df['bathrooms'] = df['bathrooms_text'].apply(lambda s: float(0.5) if 'half-bath' in str(s).lower() else float(str(s).split(' ')[0]))\n",
        "    df['bathrooms'] = df['bathrooms'].fillna(0)\n",
        "\n",
        "\n",
        "    # New features creation\n",
        "    df['lat_center'] = 37.9715\n",
        "    df['lon_center'] = 23.7257\n",
        "\n",
        "    df['distance_parthenon'] = df.apply(lambda x: vincenty((x['latitude'], x['longitude']), (x['lat_center'], x['lon_center'])).km, axis = 1)\n",
        "    df['amenities_number'] = df['amenities'].apply(lambda s: len(str(s)[1:].split(',')))\n",
        "    df['neighbourhood_cleansed_group'] = df['neighbourhood_cleansed'].map(neigh_group)\n",
        "\n",
        "    df = df.drop(columns=['lat_center','lon_center'])\n",
        "    df = df.drop(columns=['bathrooms_text', 'amenities'])\n",
        "\n",
        "\n",
        "    return df"
      ]
    },
    {
      "cell_type": "code",
      "execution_count": 6,
      "metadata": {
        "id": "b7P3VYmknfWw"
      },
      "outputs": [],
      "source": [
        "def remove_outliers_per_room_type(df):\n",
        "    '''\n",
        "    Function that removes the outliers for the columns 'price', 'maximum_nights', 'minimum_nights' for each room type seperatetly\n",
        "\n",
        "    Input:\n",
        "    - Data frame to be processed\n",
        "\n",
        "    Output:\n",
        "    - The new dataframe without the outliers\n",
        "    '''\n",
        "    shared = remove_outliers(df[df['room_type']=='Shared room'], cols=['price', 'maximum_nights', 'minimum_nights'], q1=0.25, q3=0.75)\n",
        "    priv = remove_outliers(df[df['room_type']=='Private room'], cols=['price', 'maximum_nights', 'minimum_nights'], q1=0.25, q3=0.75)\n",
        "    hot = remove_outliers(df[df['room_type']=='Hotel room'],cols=['price', 'maximum_nights', 'minimum_nights'],q1=0.25, q3=0.75)\n",
        "    home = remove_outliers(df[df['room_type']=='Entire home/apt'],cols=['price', 'maximum_nights', 'minimum_nights'],q1=0.25, q3=0.75)\n",
        "    w_removed_out = pd.concat([shared,priv,hot,home], axis=0)\n",
        "    \n",
        "    return w_removed_out"
      ]
    },
    {
      "cell_type": "code",
      "execution_count": 7,
      "metadata": {
        "id": "12TBcGUBqT2y"
      },
      "outputs": [],
      "source": [
        "def handle_amenities(df):\n",
        "    '''\n",
        "    Function that handles the 'amenities' feature. Checks if a list of amenities contains specific strings and if yes it puts a 1 in a new column\n",
        "\n",
        "    Input:\n",
        "    - The dataframe to be processed, needs to have a column named 'amenities'\n",
        "\n",
        "    Output:\n",
        "    A new dataframe with 26 new columns with boolean values for each type of amenity identified\n",
        "    '''\n",
        "    df.loc[df['amenities'].str.contains('kitchen', case=False), 'kitchen'] = 1\n",
        "    df.loc[df['amenities'].str.contains('Air conditioning|Central air conditioning', case=False), 'air_conditioning'] = 1\n",
        "    df.loc[df['amenities'].str.contains('Amazon Echo|Apple TV|Game console|Netflix|Projector and screen|Smart TV', case=False), 'high_end_electronics'] = 1\n",
        "    df.loc[df['amenities'].str.contains('BBQ grill|Fire pit|Propane barbeque', case=False), 'bbq'] = 1\n",
        "    df.loc[df['amenities'].str.contains('Balcony|Patio'), 'balcony'] = 1\n",
        "    df.loc[df['amenities'].str.contains('Beach view|Beachfront|Lake access|Mountain view|Ski-in/Ski-out|Waterfront', case=False), 'nature_and_views'] = 1\n",
        "    df.loc[df['amenities'].str.contains('Bed linens'), 'bed_linen'] = 1\n",
        "    df.loc[df['amenities'].str.contains('Breakfast'), 'breakfast'] = 1\n",
        "    df.loc[df['amenities'].str.contains('TV', case=False), 'tv'] = 1\n",
        "    df.loc[df['amenities'].str.contains('Coffee maker|Espresso machine', case=False), 'coffee_machine'] = 1\n",
        "    df.loc[df['amenities'].str.contains('Cooking basics', case=False), 'cooking_basics'] = 1\n",
        "    df.loc[df['amenities'].str.contains('Elevator', case=False), 'elevator'] = 1\n",
        "    df.loc[df['amenities'].str.contains('Exercise equipment|Gym|gym', case=False), 'gym'] = 1\n",
        "    df.loc[df['amenities'].str.contains('Family/kid friendly|Children|children', case=False), 'child_friendly'] = 1\n",
        "    df.loc[df['amenities'].str.contains('parking', case=False), 'parking'] = 1\n",
        "    df.loc[df['amenities'].str.contains('Garden|Outdoor|Sun loungers|Terrace', case=False), 'outdoor_space'] = 1\n",
        "    df.loc[df['amenities'].str.contains('Host greets you', case=False), 'host_greeting'] = 1\n",
        "    df.loc[df['amenities'].str.contains('Hot tub|Jetted tub|hot tub|Sauna|Pool|pool', case=False), 'hot_tub_sauna_or_pool'] = 1\n",
        "    df.loc[df['amenities'].str.contains('Internet|Pocket wifi|Wifi', case=False), 'internet'] = 1\n",
        "    df.loc[df['amenities'].str.contains('Long term stays allowed', case=False), 'long_term_stays'] = 1\n",
        "    df.loc[df['amenities'].str.contains('Pets|pet|Cat(s)|Dog(s)', case=False), 'pets_allowed'] = 1\n",
        "    df.loc[df['amenities'].str.contains('Private entrance', case=False), 'private_entrance'] = 1\n",
        "    df.loc[df['amenities'].str.contains('Safe|Security system', case=False), 'secure'] = 1\n",
        "    df.loc[df['amenities'].str.contains('Self check-in', case=False), 'self_check_in'] = 1\n",
        "    df.loc[df['amenities'].str.contains('Smoking allowed', case=False), 'smoking_allowed'] = 1\n",
        "    df.loc[df['amenities'].str.contains('Step-free access|Wheelchair|Accessible', case=False), 'accessible'] = 1\n",
        "    df.loc[df['amenities'].str.contains('Suitable for events', case=False), 'event_suitable'] = 1   \n",
        "    \n",
        "\n",
        "    cols_to_replace_nulls = df.columns\n",
        "    df[cols_to_replace_nulls] = df[cols_to_replace_nulls].fillna(0)\n",
        "    df.drop(columns=['amenities'], axis=1, inplace=True)\n",
        "\n",
        "    return df"
      ]
    },
    {
      "cell_type": "code",
      "execution_count": 8,
      "metadata": {
        "id": "H3Za4EF0GY8u"
      },
      "outputs": [],
      "source": [
        "def preprocess(df):\n",
        "    '''\n",
        "    Function that combines all the preprocessing steps. It makes the price float, removes outliers based on room types, \n",
        "    handles amenities, fills the missing values, encodes some features and creates the new features\n",
        "\n",
        "    Input:\n",
        "    - The dataframe to be preprocessed\n",
        "\n",
        "    Output:\n",
        "    - The preprocessed dataframe\n",
        "    '''\n",
        "    df['price']= df['price'].replace('[\\$,]', '', regex=True).astype(float)\n",
        "    df = remove_outliers_per_room_type(df)\n",
        "    amenities = handle_amenities(df[['amenities']])\n",
        "    df = pd.concat([df,amenities], axis=1)\n",
        "    neigh_mappings = get_neigh_groupings(df)\n",
        "    df = missing_values_n_encoding(df,neigh_mappings)\n",
        "\n",
        "    return df"
      ]
    },
    {
      "cell_type": "markdown",
      "source": [
        "# Model comparisson"
      ],
      "metadata": {
        "id": "vBOQ4dHCWuIq"
      }
    },
    {
      "cell_type": "code",
      "source": [
        "from sklearn.linear_model import LogisticRegression\n",
        "from sklearn.neighbors import KNeighborsClassifier\n",
        "from sklearn.svm import SVR\n",
        "from sklearn.ensemble import RandomForestClassifier\n",
        "from sklearn.naive_bayes import GaussianNB\n",
        "from xgboost import XGBClassifier\n",
        "from sklearn import model_selection\n",
        "from sklearn.utils import class_weight\n",
        "from sklearn.metrics import classification_report\n",
        "from sklearn.metrics import confusion_matrix\n",
        "import numpy as np\n",
        "import pandas as pd\n",
        "from sklearn.pipeline import Pipeline\n",
        "from sklearn.model_selection import train_test_split\n",
        "from sklearn import metrics\n",
        "from matplotlib import pyplot\n",
        "import xgboost as xg\n",
        "import joblib\n",
        "from sklearn.preprocessing import StandardScaler, MinMaxScaler\n",
        "from sklearn.compose import ColumnTransformer\n",
        "from sklearn.preprocessing import OneHotEncoder\n",
        "\n",
        "from sklearn.linear_model import Ridge, Lasso, ElasticNet, LinearRegression\n",
        "from sklearn.ensemble import RandomForestRegressor\n",
        "from sklearn.tree import DecisionTreeRegressor\n",
        "\n",
        "def run_exps(X_train , y_train, X_test, y_test):\n",
        "    '''\n",
        "    Function that runs a set of experiments for model comparisson\n",
        "\n",
        "    Inputs:\n",
        "    - X_train, needs to be encoded\n",
        "    - X_test\n",
        "    - y_train, needs to be encoded\n",
        "    - y_test\n",
        "\n",
        "    Output:\n",
        "    - Dataframe that includes the measures for all experiments and all cross validation runs\n",
        "    '''\n",
        "    \n",
        "    dfs = []\n",
        "    models = [\n",
        "          ('LinearR', LinearRegression()), \n",
        "          ('DT', DecisionTreeRegressor()),\n",
        "          ('SVR', SVR()), \n",
        "          ('XGB', xg.XGBRegressor())\n",
        "        ]\n",
        "    results = []\n",
        "    names = []\n",
        "    scoring = ['neg_mean_absolute_error', 'neg_mean_absolute_percentage_error']\n",
        "    \n",
        "\n",
        "    for name, model in models:\n",
        "        kfold = model_selection.KFold(n_splits=5, shuffle=True, random_state=90210)\n",
        "        cv_results = model_selection.cross_validate(model, X_train, y_train, cv=kfold, scoring=scoring)\n",
        "        clf = model.fit(X_train, y_train)\n",
        "        y_pred = clf.predict(X_test)\n",
        "        print(name)\n",
        "        results.append(cv_results)\n",
        "        names.append(name)\n",
        "\n",
        "        this_df = pd.DataFrame(cv_results)\n",
        "        this_df['model'] = name\n",
        "        dfs.append(this_df)\n",
        "        final = pd.concat(dfs, ignore_index=True)\n",
        "    return final"
      ],
      "metadata": {
        "id": "efs8Xf7zWtt1"
      },
      "execution_count": 30,
      "outputs": []
    },
    {
      "cell_type": "code",
      "source": [
        "data = pd.read_csv(data_path + '/listings.csv')\n",
        "data = data.drop(columns=['listing_url', 'scrape_id', 'last_scraped', 'name','description', 'picture_url', 'host_url', 'host_name', \n",
        "                         'host_location','host_thumbnail_url','host_picture_url','host_neighbourhood', 'neighbourhood', 'host_total_listings_count',\n",
        "                         'calendar_updated','bathrooms', 'first_review','last_review', 'calendar_last_scraped',\n",
        "                         'minimum_minimum_nights','maximum_minimum_nights','minimum_maximum_nights','maximum_maximum_nights','minimum_nights_avg_ntm',\n",
        "                         'maximum_nights_avg_ntm','calculated_host_listings_count_entire_homes', 'calculated_host_listings_count_private_rooms',\n",
        "                         'calculated_host_listings_count_shared_rooms','host_acceptance_rate', 'neighbourhood_group_cleansed', 'neighborhood_overview','beds', \n",
        "                          'bedrooms' ,'host_has_profile_pic' ,'availability_60','availability_30', 'availability_365', 'number_of_reviews_ltm','number_of_reviews_l30d', \n",
        "                          'host_listings_count','host_identity_verified','host_since', 'host_id', 'id', 'reviews_per_month'])\n",
        "\n",
        "data_proc = preprocess(data)\n",
        "\n",
        "X = data_proc.drop(columns = ['price'])\n",
        "y = data_proc['price']\n",
        "X_train, X_test, y_train, y_test = train_test_split(X, y, test_size=0.2, random_state=13)\n",
        "\n",
        "transformerVectoriser = ColumnTransformer(\n",
        "    transformers=[\n",
        "        ('neighbourhood_cleansed', OneHotEncoder(sparse=True, handle_unknown='ignore'), ['neighbourhood_cleansed']),\n",
        "        ('property_type', OneHotEncoder(sparse=True, handle_unknown='ignore'), ['property_type']),\n",
        "        ('room_type', OneHotEncoder(sparse=True, handle_unknown='ignore'), ['room_type']),\n",
        "        ('neighbourhood_cleansed_group', OneHotEncoder(sparse=True, handle_unknown='ignore'), ['neighbourhood_cleansed_group']),\n",
        "        ('host_response_time', OneHotEncoder(sparse=True, handle_unknown='ignore'), ['host_response_time']),\n",
        "        ('host_response_rate', OneHotEncoder(sparse=True, handle_unknown='ignore'), ['host_response_rate'])\n",
        "    ], remainder='passthrough')\n",
        "\n",
        "X_train = transformerVectoriser.fit_transform(X_train)\n",
        "X_test = transformerVectoriser.transform(X_test)\n",
        "\n",
        "final = run_exps(X_train, y_train, X_test, y_test)"
      ],
      "metadata": {
        "colab": {
          "base_uri": "https://localhost:8080/"
        },
        "id": "JGthxZb4XJTl",
        "outputId": "9857e03f-d0e6-4b4f-ed4d-5e20928217c6"
      },
      "execution_count": 31,
      "outputs": [
        {
          "output_type": "stream",
          "name": "stderr",
          "text": [
            "/usr/local/lib/python3.7/dist-packages/ipykernel_launcher.py:31: UserWarning: This pattern has match groups. To actually get the groups, use str.extract.\n"
          ]
        },
        {
          "output_type": "stream",
          "name": "stdout",
          "text": [
            "LinearR\n",
            "DT\n",
            "SVR\n",
            "[18:58:20] WARNING: /workspace/src/objective/regression_obj.cu:152: reg:linear is now deprecated in favor of reg:squarederror.\n",
            "[18:58:22] WARNING: /workspace/src/objective/regression_obj.cu:152: reg:linear is now deprecated in favor of reg:squarederror.\n",
            "[18:58:23] WARNING: /workspace/src/objective/regression_obj.cu:152: reg:linear is now deprecated in favor of reg:squarederror.\n",
            "[18:58:25] WARNING: /workspace/src/objective/regression_obj.cu:152: reg:linear is now deprecated in favor of reg:squarederror.\n",
            "[18:58:27] WARNING: /workspace/src/objective/regression_obj.cu:152: reg:linear is now deprecated in favor of reg:squarederror.\n",
            "[18:58:28] WARNING: /workspace/src/objective/regression_obj.cu:152: reg:linear is now deprecated in favor of reg:squarederror.\n",
            "XGB\n"
          ]
        }
      ]
    },
    {
      "cell_type": "code",
      "source": [
        "'''\n",
        "Block of code that takes the final dataframe from the run exps function and creates a new dataframe with three columns\n",
        "One with the model name, the second with the metric name and the third with the metric value\n",
        "Includes results for all metrics and all experiments\n",
        "'''\n",
        "bootstraps = []\n",
        "for model in list(set(final.model.values)):\n",
        "    model_df = final.loc[final.model == model]\n",
        "    bootstrap = model_df.sample(n=30, replace=True)\n",
        "    bootstraps.append(bootstrap)\n",
        "        \n",
        "bootstrap_df = pd.concat(bootstraps, ignore_index=True)\n",
        "results_long = pd.melt(bootstrap_df,id_vars=['model'],var_name='metrics', value_name='values')\n",
        "time_metrics = ['fit_time','score_time']\n",
        "results_long_nofit = results_long.loc[~results_long['metrics'].isin(time_metrics)] \n",
        "results_long_nofit = results_long_nofit.sort_values(by='values')\n"
      ],
      "metadata": {
        "id": "y9rBkOlpg9Bn"
      },
      "execution_count": 32,
      "outputs": []
    },
    {
      "cell_type": "code",
      "source": [
        "import matplotlib.pyplot as plt\n",
        "import seaborn as sns\n",
        "\n",
        "# To plot the negative mean absolute error in a box plot\n",
        "\n",
        "plt.figure(figsize=(15, 10))\n",
        "sns.set(font_scale=2.5)\n",
        "g = sns.boxplot(x=\"model\", y=\"values\", hue=\"metrics\", data=results_long_nofit[results_long_nofit['metrics']=='test_neg_mean_absolute_error'], palette=\"Set3\")\n",
        "plt.legend(bbox_to_anchor=(1.05, 1), loc=2, borderaxespad=0.)\n",
        "plt.title('Comparison of Models Negative MAE')\n",
        "plt.savefig('./MAE_models_performance.png',dpi=300)"
      ],
      "metadata": {
        "colab": {
          "base_uri": "https://localhost:8080/",
          "height": 588
        },
        "id": "OjQGExqcwn0v",
        "outputId": "b426b0b2-f1e2-4965-9eff-26c1f4a02c6c"
      },
      "execution_count": 33,
      "outputs": [
        {
          "output_type": "display_data",
          "data": {
            "text/plain": [
              "<Figure size 1080x720 with 1 Axes>"
            ],
            "image/png": "[encoded data removed]"
          },
          "metadata": {}
        }
      ]
    },
    {
      "cell_type": "code",
      "source": [
        "# To plot the negative mean absolute persentage error in a box plot\n",
        "\n",
        "plt.figure(figsize=(15, 10))\n",
        "sns.set(font_scale=2.5)\n",
        "g = sns.boxplot(x=\"model\", y=\"values\", hue=\"metrics\", data=results_long_nofit[results_long_nofit['metrics']=='test_neg_mean_absolute_percentage_error'], palette=\"Set3\")\n",
        "plt.legend(bbox_to_anchor=(1.05, 1), loc=2, borderaxespad=0.)\n",
        "plt.title('Comparison of Models Negative MAPE')\n",
        "plt.savefig('./MAPE_models_performance.png',dpi=300)"
      ],
      "metadata": {
        "colab": {
          "base_uri": "https://localhost:8080/",
          "height": 522
        },
        "id": "YHdh4ljBOsRa",
        "outputId": "20feb957-a205-49bf-c2fe-a4ed1b113be4"
      },
      "execution_count": 34,
      "outputs": [
        {
          "output_type": "display_data",
          "data": {
            "text/plain": [
              "<Figure size 1080x720 with 1 Axes>"
            ],
            "image/png": "[encoded data removed]"
          },
          "metadata": {}
        }
      ]
    },
    {
      "cell_type": "markdown",
      "metadata": {
        "id": "6DFWF9qpKeU0"
      },
      "source": [
        "## XGBoost regressor selected\n",
        "\n",
        "From the box plots above we can clearly see that the XGBoost algorithm outperformes the others even without any hyperparameter tuning. Therefore we select to proceed using that one\n"
      ]
    },
    {
      "cell_type": "markdown",
      "metadata": {
        "id": "87VfZDuN807y"
      },
      "source": [
        "## Model hyper parameter tuning\n"
      ]
    },
    {
      "cell_type": "code",
      "execution_count": 28,
      "metadata": {
        "colab": {
          "base_uri": "https://localhost:8080/"
        },
        "id": "LCiUFntbfciY",
        "outputId": "17d92758-3672-44b0-b82d-e24ebf8d2ee8"
      },
      "outputs": [
        {
          "output_type": "stream",
          "name": "stderr",
          "text": [
            "/usr/local/lib/python3.7/dist-packages/ipykernel_launcher.py:31: UserWarning: This pattern has match groups. To actually get the groups, use str.extract.\n"
          ]
        },
        {
          "output_type": "stream",
          "name": "stdout",
          "text": [
            "[18:32:14] WARNING: /workspace/src/objective/regression_obj.cu:152: reg:linear is now deprecated in favor of reg:squarederror.\n",
            "Best Score: -13.255955774500967\n",
            "Best Hyperparameters: {'n_estimators': 3000, 'max_depth': 6, 'learning_rate': 0.033}\n"
          ]
        }
      ],
      "source": [
        "from sklearn.model_selection import RepeatedKFold\n",
        "from sklearn.model_selection import RandomizedSearchCV\n",
        "from sklearn.preprocessing import OneHotEncoder\n",
        "\n",
        "data = pd.read_csv(data_path + '/listings.csv')\n",
        "data = data.drop(columns=['listing_url', 'scrape_id', 'last_scraped', 'name','description', 'picture_url', 'host_url', 'host_name', \n",
        "                         'host_location','host_thumbnail_url','host_picture_url','host_neighbourhood', 'neighbourhood', 'host_total_listings_count',\n",
        "                         'calendar_updated','bathrooms', 'first_review','last_review', 'calendar_last_scraped',\n",
        "                         'minimum_minimum_nights','maximum_minimum_nights','minimum_maximum_nights','maximum_maximum_nights','minimum_nights_avg_ntm',\n",
        "                         'maximum_nights_avg_ntm','calculated_host_listings_count_entire_homes', 'calculated_host_listings_count_private_rooms',\n",
        "                         'calculated_host_listings_count_shared_rooms','host_acceptance_rate', 'neighbourhood_group_cleansed', 'neighborhood_overview','beds', \n",
        "                          'bedrooms' ,'host_has_profile_pic' ,'availability_60','availability_30', 'availability_365', 'number_of_reviews_ltm','number_of_reviews_l30d', \n",
        "                          'host_listings_count','host_identity_verified','host_since', 'host_id', 'id', 'reviews_per_month'])\n",
        "\n",
        "data_proc = preprocess(data)\n",
        "\n",
        "X = data_proc.drop(columns = ['price'])\n",
        "y = data_proc['price']\n",
        "\n",
        "transformerVectoriser = ColumnTransformer(\n",
        "    transformers=[\n",
        "        ('neighbourhood_cleansed', OneHotEncoder(sparse=True, handle_unknown='ignore'), ['neighbourhood_cleansed']),\n",
        "        ('property_type', OneHotEncoder(sparse=True, handle_unknown='ignore'), ['property_type']),\n",
        "        ('room_type', OneHotEncoder(sparse=True, handle_unknown='ignore'), ['room_type']),\n",
        "        ('neighbourhood_cleansed_group', OneHotEncoder(sparse=True, handle_unknown='ignore'), ['neighbourhood_cleansed_group']),\n",
        "        ('host_response_time', OneHotEncoder(sparse=True, handle_unknown='ignore'), ['host_response_time']),\n",
        "        ('host_response_rate', OneHotEncoder(sparse=True, handle_unknown='ignore'), ['host_response_rate'])\n",
        "    ], remainder='passthrough')\n",
        "\n",
        "X_enc = transformerVectoriser.fit_transform(X)\n",
        "\n",
        "param_grid = {\n",
        "    \"learning_rate\": [0.032, 0.033, 0.034],\n",
        "    \"max_depth\": [4, 5, 6],\n",
        "    \"n_estimators\": [2000, 3000]\n",
        "}\n",
        "\n",
        "model = xg.XGBRegressor(gamma=0.1, reg_lambda=2,  colsample_bytree=0.8, subsample=0.6)\n",
        "\n",
        "cv = RepeatedKFold(n_splits=2, n_repeats=2, random_state=42)\n",
        "search = RandomizedSearchCV(model, param_grid, n_iter=10, scoring='neg_mean_absolute_error', n_jobs=-1, cv=cv, random_state=42)\n",
        "\n",
        "result = search.fit(X_enc, y)\n",
        "\n",
        "print('Best Score: %s' % result.best_score_)\n",
        "print('Best Hyperparameters: %s' % result.best_params_)"
      ]
    },
    {
      "cell_type": "markdown",
      "metadata": {
        "id": "FcAB_5v0pzKd"
      },
      "source": [
        "### To do cross validation"
      ]
    },
    {
      "cell_type": "code",
      "execution_count": 35,
      "metadata": {
        "id": "ZFmyiyz4pLdF",
        "colab": {
          "base_uri": "https://localhost:8080/"
        },
        "outputId": "2d599b32-b33b-409d-8eee-6ce3bb823ff6"
      },
      "outputs": [
        {
          "metadata": {
            "tags": null
          },
          "name": "stderr",
          "output_type": "stream",
          "text": [
            "/usr/local/lib/python3.7/dist-packages/ipykernel_launcher.py:31: UserWarning: This pattern has match groups. To actually get the groups, use str.extract.\n"
          ]
        },
        {
          "output_type": "stream",
          "name": "stdout",
          "text": [
            "[18:58:51] WARNING: /workspace/src/objective/regression_obj.cu:152: reg:linear is now deprecated in favor of reg:squarederror.\n",
            "[19:01:07] WARNING: /workspace/src/objective/regression_obj.cu:152: reg:linear is now deprecated in favor of reg:squarederror.\n",
            "[19:03:22] WARNING: /workspace/src/objective/regression_obj.cu:152: reg:linear is now deprecated in favor of reg:squarederror.\n",
            "[19:05:38] WARNING: /workspace/src/objective/regression_obj.cu:152: reg:linear is now deprecated in favor of reg:squarederror.\n",
            "[19:07:54] WARNING: /workspace/src/objective/regression_obj.cu:152: reg:linear is now deprecated in favor of reg:squarederror.\n",
            "[19:10:10] WARNING: /workspace/src/objective/regression_obj.cu:152: reg:linear is now deprecated in favor of reg:squarederror.\n",
            "[19:12:27] WARNING: /workspace/src/objective/regression_obj.cu:152: reg:linear is now deprecated in favor of reg:squarederror.\n",
            "[19:14:43] WARNING: /workspace/src/objective/regression_obj.cu:152: reg:linear is now deprecated in favor of reg:squarederror.\n",
            "[19:16:58] WARNING: /workspace/src/objective/regression_obj.cu:152: reg:linear is now deprecated in favor of reg:squarederror.\n",
            "[19:19:14] WARNING: /workspace/src/objective/regression_obj.cu:152: reg:linear is now deprecated in favor of reg:squarederror.\n",
            "[19:21:30] WARNING: /workspace/src/objective/regression_obj.cu:152: reg:linear is now deprecated in favor of reg:squarederror.\n",
            "[19:23:45] WARNING: /workspace/src/objective/regression_obj.cu:152: reg:linear is now deprecated in favor of reg:squarederror.\n",
            "[19:26:04] WARNING: /workspace/src/objective/regression_obj.cu:152: reg:linear is now deprecated in favor of reg:squarederror.\n",
            "[19:28:19] WARNING: /workspace/src/objective/regression_obj.cu:152: reg:linear is now deprecated in favor of reg:squarederror.\n",
            "[19:30:36] WARNING: /workspace/src/objective/regression_obj.cu:152: reg:linear is now deprecated in favor of reg:squarederror.\n",
            "[19:32:53] WARNING: /workspace/src/objective/regression_obj.cu:152: reg:linear is now deprecated in favor of reg:squarederror.\n",
            "[19:35:09] WARNING: /workspace/src/objective/regression_obj.cu:152: reg:linear is now deprecated in favor of reg:squarederror.\n",
            "[19:37:26] WARNING: /workspace/src/objective/regression_obj.cu:152: reg:linear is now deprecated in favor of reg:squarederror.\n",
            "[19:39:42] WARNING: /workspace/src/objective/regression_obj.cu:152: reg:linear is now deprecated in favor of reg:squarederror.\n",
            "[19:41:57] WARNING: /workspace/src/objective/regression_obj.cu:152: reg:linear is now deprecated in favor of reg:squarederror.\n",
            "[19:44:14] WARNING: /workspace/src/objective/regression_obj.cu:152: reg:linear is now deprecated in favor of reg:squarederror.\n",
            "[19:46:30] WARNING: /workspace/src/objective/regression_obj.cu:152: reg:linear is now deprecated in favor of reg:squarederror.\n",
            "[19:48:46] WARNING: /workspace/src/objective/regression_obj.cu:152: reg:linear is now deprecated in favor of reg:squarederror.\n",
            "[19:51:02] WARNING: /workspace/src/objective/regression_obj.cu:152: reg:linear is now deprecated in favor of reg:squarederror.\n",
            "[19:53:18] WARNING: /workspace/src/objective/regression_obj.cu:152: reg:linear is now deprecated in favor of reg:squarederror.\n",
            "{'fit_time': array([135.27218437, 135.30083871, 135.47303843, 135.2708447 ,\n",
            "       135.41547513, 136.69729471, 135.37072134, 133.91894841,\n",
            "       135.62501097, 135.08031249, 134.77662063, 138.53363371,\n",
            "       134.86679244, 135.72887373, 136.690732  , 135.30089021,\n",
            "       136.16699576, 135.43217373, 135.32128811, 136.4703567 ,\n",
            "       135.26268196, 135.01088166, 136.03546691, 135.19371247,\n",
            "       135.98021054]), 'score_time': array([0.54266715, 0.55113173, 0.54916906, 0.54612088, 0.5612011 ,\n",
            "       0.55258512, 0.55776596, 0.53364515, 0.54748487, 0.53676462,\n",
            "       0.55697417, 0.55005646, 0.5400207 , 0.53906274, 0.54399943,\n",
            "       0.53969359, 0.54592204, 0.5400753 , 0.54820132, 0.54988289,\n",
            "       0.55462623, 0.53781486, 0.54238963, 0.55120707, 0.53499508]), 'test_neg_mean_absolute_percentage_error': array([-0.23686966, -0.24840097, -0.23806708, -0.24694088, -0.24583579,\n",
            "       -0.24616202, -0.24968795, -0.22712117, -0.24570698, -0.23996657,\n",
            "       -0.23777378, -0.23992383, -0.24070447, -0.25072551, -0.23946617,\n",
            "       -0.23630467, -0.23980729, -0.25633952, -0.24324887, -0.23966663,\n",
            "       -0.24286286, -0.23633433, -0.23979173, -0.24347876, -0.24708777]), 'test_neg_mean_absolute_error': array([-12.67343623, -12.45136045, -12.90798115, -12.92894334,\n",
            "       -12.24645193, -12.84131573, -12.85748654, -12.03706484,\n",
            "       -12.65075951, -12.71054124, -12.3603027 , -12.63764221,\n",
            "       -12.70395142, -12.5729352 , -12.64303288, -12.99806731,\n",
            "       -12.67736602, -12.63591801, -12.79539574, -12.34929114,\n",
            "       -12.82407466, -12.36000175, -12.49509821, -12.69066684,\n",
            "       -12.82249075])}\n",
            "fit_time:135.60783919334412, (0.8478131055284449)\n",
            "score_time:0.5461382865905762, (0.007272605955748619)\n",
            "test_neg_mean_absolute_error:-12.63486303240061, (0.22776679666386332)\n",
            "test_neg_mean_absolute_percentage_error:-0.24233101061605616, (0.0058545672348818)\n"
          ]
        }
      ],
      "source": [
        "# Cross validation\n",
        "\n",
        "import numpy as np\n",
        "from matplotlib import pyplot\n",
        "import xgboost as xg\n",
        "from sklearn.model_selection import cross_val_score\n",
        "from sklearn.model_selection import cross_validate\n",
        "from sklearn.preprocessing import OneHotEncoder\n",
        "\n",
        "\n",
        "data = pd.read_csv(data_path + '/listings.csv')\n",
        "data = data.drop(columns=['listing_url', 'scrape_id', 'last_scraped', 'name','description', 'picture_url', 'host_url', 'host_name', \n",
        "                         'host_location','host_thumbnail_url','host_picture_url','host_neighbourhood', 'neighbourhood', 'host_total_listings_count',\n",
        "                         'calendar_updated','bathrooms', 'first_review','last_review', 'calendar_last_scraped',\n",
        "                         'minimum_minimum_nights','maximum_minimum_nights','minimum_maximum_nights','maximum_maximum_nights','minimum_nights_avg_ntm',\n",
        "                         'maximum_nights_avg_ntm','calculated_host_listings_count_entire_homes', 'calculated_host_listings_count_private_rooms',\n",
        "                         'calculated_host_listings_count_shared_rooms','host_acceptance_rate', 'neighbourhood_group_cleansed', 'neighborhood_overview','beds', \n",
        "                          'bedrooms' ,'host_has_profile_pic' ,'availability_60','availability_30', 'availability_365', 'number_of_reviews_ltm','number_of_reviews_l30d', \n",
        "                          'host_listings_count','host_identity_verified','host_since', 'host_id', 'id', 'reviews_per_month'])\n",
        "\n",
        "data_proc = preprocess(data)\n",
        "\n",
        "X = data_proc.drop(columns = ['price'])\n",
        "transformerVectoriser = ColumnTransformer(\n",
        "    transformers=[\n",
        "        ('neighbourhood_cleansed', OneHotEncoder(sparse=True, handle_unknown='ignore'), ['neighbourhood_cleansed']),\n",
        "        ('property_type', OneHotEncoder(sparse=True, handle_unknown='ignore'), ['property_type']),\n",
        "        ('room_type', OneHotEncoder(sparse=True, handle_unknown='ignore'), ['room_type']),\n",
        "        ('neighbourhood_cleansed_group', OneHotEncoder(sparse=True, handle_unknown='ignore'), ['neighbourhood_cleansed_group']),\n",
        "        ('host_response_time', OneHotEncoder(sparse=True, handle_unknown='ignore'), ['host_response_time']),\n",
        "        ('host_response_rate', OneHotEncoder(sparse=True, handle_unknown='ignore'), ['host_response_rate'])\n",
        "    ], remainder='passthrough')\n",
        "\n",
        "X_enc = transformerVectoriser.fit_transform(X)\n",
        "\n",
        "y = data_proc['price']\n",
        "\n",
        "model = xg.XGBRegressor(gamma=0.1, reg_lambda=2, n_estimators=3000, max_depth=6, learning_rate=0.033, colsample_bytree=0.8, subsample=0.6) \n",
        "\n",
        "\n",
        "scoring = ['neg_mean_absolute_percentage_error', 'neg_mean_absolute_error']\n",
        "cv = RepeatedKFold(n_splits=5, n_repeats=5, random_state=42)\n",
        "scores = cross_validate(model, X_enc, y, scoring=scoring, cv=cv)\n",
        "print(scores)\n",
        "for i in sorted(scores.keys()):\n",
        "    print(\"{}:{}, ({})\".format(i, scores[i].mean(), scores[i].std()))\n",
        "\n"
      ]
    },
    {
      "cell_type": "markdown",
      "source": [
        "## Save model in pickle file\n",
        "Code used for training and saving the model in pickle file. Later to be used in the back end for price inference"
      ],
      "metadata": {
        "id": "kaSd-OTJQwBc"
      }
    },
    {
      "cell_type": "code",
      "source": [
        "## TO test if pipeline works\n",
        "from sklearn.pipeline import Pipeline\n",
        "from sklearn.model_selection import train_test_split\n",
        "from sklearn import metrics\n",
        "from matplotlib import pyplot\n",
        "import xgboost as xg\n",
        "import joblib\n",
        "from sklearn.preprocessing import StandardScaler, MinMaxScaler\n",
        "from sklearn.compose import ColumnTransformer\n",
        "from sklearn.preprocessing import OneHotEncoder\n",
        "\n",
        "data = pd.read_csv(data_path + '/listings.csv')\n",
        "data = data.drop(columns=['listing_url', 'scrape_id', 'last_scraped', 'name','description', 'picture_url', 'host_url', 'host_name', \n",
        "                         'host_location','host_thumbnail_url','host_picture_url','host_neighbourhood', 'neighbourhood', 'host_total_listings_count',\n",
        "                         'calendar_updated','bathrooms', 'first_review','last_review', 'calendar_last_scraped',\n",
        "                         'minimum_minimum_nights','maximum_minimum_nights','minimum_maximum_nights','maximum_maximum_nights','minimum_nights_avg_ntm',\n",
        "                         'maximum_nights_avg_ntm','calculated_host_listings_count_entire_homes', 'calculated_host_listings_count_private_rooms',\n",
        "                         'calculated_host_listings_count_shared_rooms','host_acceptance_rate', 'neighbourhood_group_cleansed', 'neighborhood_overview','beds', \n",
        "                          'bedrooms' ,'host_has_profile_pic' ,'availability_60','availability_30', 'availability_365', 'number_of_reviews_ltm','number_of_reviews_l30d', \n",
        "                          'host_listings_count','host_identity_verified','host_since', 'host_id', 'id', 'reviews_per_month'])\n",
        "\n",
        "data_proc = preprocess(data)\n",
        "\n",
        "X = data_proc.drop(columns = ['price'])\n",
        "y = data_proc['price']\n",
        "X_train, X_test, y_train, y_test = train_test_split(X, y, test_size=0.2, random_state=13)\n",
        "\n",
        "## The transformer vectoriser takes the columns we want (the non numerical ones) and one hot encodes them. It does the same as pd.get_dummies but is able to be added in the pipeline \n",
        "transformerVectoriser = ColumnTransformer(\n",
        "    transformers=[\n",
        "        ('neighbourhood_cleansed', OneHotEncoder(sparse=True, handle_unknown='ignore'), ['neighbourhood_cleansed']),\n",
        "        ('property_type', OneHotEncoder(sparse=True, handle_unknown='ignore'), ['property_type']),\n",
        "        ('room_type', OneHotEncoder(sparse=True, handle_unknown='ignore'), ['room_type']),\n",
        "        ('neighbourhood_cleansed_group', OneHotEncoder(sparse=True, handle_unknown='ignore'), ['neighbourhood_cleansed_group']),\n",
        "        ('host_response_time', OneHotEncoder(sparse=True, handle_unknown='ignore'), ['host_response_time']),\n",
        "        ('host_response_rate', OneHotEncoder(sparse=True, handle_unknown='ignore'), ['host_response_rate'])\n",
        "    ], remainder='passthrough')\n",
        "\n",
        "# create the pipeline. It has two components, the vectorizer that one hot encodes the non-numerical features and the xgboost regressor\n",
        "reg = Pipeline([('enc', transformerVectoriser),\n",
        "                ('reg', xg.XGBRegressor(gamma=0.1, reg_lambda=2, n_estimators=3000, max_depth=6, learning_rate=0.033, colsample_bytree=0.8, subsample=0.6) )])\n",
        "\n",
        "reg = reg.fit(X_train, y_train)\n",
        "y_pred = reg.predict(X_test)\n",
        "\n",
        "print(\" \")\n",
        "print(\"###### Results with the trained pipeline\")\n",
        "print('Mean Absolute Error:', metrics.mean_absolute_error(y_test, y_pred))\n",
        "print('Mean Absolute Percentage Error', metrics.mean_absolute_percentage_error(y_test,y_pred))\n",
        "print('#########')  \n",
        "print('Mean Squared Error:', metrics.mean_squared_error(y_test, y_pred))  \n",
        "print('Root Mean Squared Error:', np.sqrt(metrics.mean_squared_error(y_test, y_pred)))\n",
        "\n",
        "\n",
        "joblib.dump(reg, data_path + 'pipeline.pkl') # Save pipeline in a pickle file\n",
        "\n",
        "loaded_reg = joblib.load(data_path + 'pipeline.pkl') # Load pipeline in a new variable\n",
        "y_pred_load = loaded_reg.predict(X_test) # use this pipeline for prediction\n",
        "\n",
        "print(\" \")\n",
        "print(\"###### Results with the reloaded pipeline - To verify results are the same\")\n",
        "print('Mean Absolute Error:', metrics.mean_absolute_error(y_test, y_pred_load))\n",
        "print('Mean Absolute Percentage Error', metrics.mean_absolute_percentage_error(y_test, y_pred_load))\n",
        "print('#########')  \n",
        "print('Mean Squared Error:', metrics.mean_squared_error(y_test, y_pred_load))  \n",
        "print('Root Mean Squared Error:', np.sqrt(metrics.mean_squared_error(y_test, y_pred_load)))"
      ],
      "metadata": {
        "colab": {
          "base_uri": "https://localhost:8080/"
        },
        "id": "elVm1L1vQvhs",
        "outputId": "4525d8cb-ee2b-44b9-9ae0-d7c24b6beb75"
      },
      "execution_count": 29,
      "outputs": [
        {
          "output_type": "stream",
          "name": "stderr",
          "text": [
            "/usr/local/lib/python3.7/dist-packages/ipykernel_launcher.py:31: UserWarning: This pattern has match groups. To actually get the groups, use str.extract.\n"
          ]
        },
        {
          "output_type": "stream",
          "name": "stdout",
          "text": [
            "[18:55:05] WARNING: /workspace/src/objective/regression_obj.cu:152: reg:linear is now deprecated in favor of reg:squarederror.\n",
            " \n",
            "###### Results with the trained pipeline\n",
            "Mean Absolute Error: 12.556204739809036\n",
            "Mean Absolute Percentage Error 0.24205315504151895\n",
            "#########\n",
            "Mean Squared Error: 324.85463352506406\n",
            "Root Mean Squared Error: 18.02372418577981\n",
            "[18:57:24] WARNING: /workspace/src/objective/regression_obj.cu:152: reg:linear is now deprecated in favor of reg:squarederror.\n",
            " \n",
            "###### Results with the reloaded pipeline - To verify results are the same\n",
            "Mean Absolute Error: 12.556204739809036\n",
            "Mean Absolute Percentage Error 0.24205315504151895\n",
            "#########\n",
            "Mean Squared Error: 324.85463352506406\n",
            "Root Mean Squared Error: 18.02372418577981\n"
          ]
        }
      ]
    },
    {
      "cell_type": "code",
      "source": [],
      "metadata": {
        "id": "np7o0mBbuEVn"
      },
      "execution_count": null,
      "outputs": []
    }
  ],
  "metadata": {
    "colab": {
      "collapsed_sections": [],
      "provenance": []
    },
    "kernelspec": {
      "display_name": "Python 3",
      "name": "python3"
    },
    "language_info": {
      "name": "python"
    }
  },
  "nbformat": 4,
  "nbformat_minor": 0
}